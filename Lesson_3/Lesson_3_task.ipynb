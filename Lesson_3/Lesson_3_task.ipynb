{
 "cells": [
  {
   "cell_type": "markdown",
   "id": "6c403b4c-d36c-4f78-b01f-124c1953e5bf",
   "metadata": {},
   "source": [
    "## Практическое задание к уроку № 3 по теме \"TensorFlow\"."
   ]
  },
  {
   "cell_type": "markdown",
   "id": "efe6e56b-5f7f-4877-a86c-a17ba90cb71b",
   "metadata": {},
   "source": [
    "Задание 1."
   ]
  },
  {
   "cell_type": "markdown",
   "id": "ae188890-8249-4aba-87af-82b574226aef",
   "metadata": {},
   "source": [
    "*Попробуйте улучшить работу нейронной сети (разобранную на уроке), обучавшейся на датасете Fashion-MNIST.  \n",
    "Опишите, какого результата вы добились от нейросети? Что помогло вам улучшить ее точность?*"
   ]
  },
  {
   "cell_type": "markdown",
   "id": "bc12fae6-7bbc-41ac-a28b-35d2a967418a",
   "metadata": {},
   "source": [
    "Сделаем необходимые импорты:"
   ]
  },
  {
   "cell_type": "code",
   "execution_count": 1,
   "id": "ab938865-b01a-4627-9212-065ca07f6cbb",
   "metadata": {},
   "outputs": [],
   "source": [
    "import tensorflow as tf"
   ]
  },
  {
   "cell_type": "code",
   "execution_count": 2,
   "id": "a1d73d13-d736-4305-a456-ebbd51c9e4c1",
   "metadata": {},
   "outputs": [],
   "source": [
    "fashion_mnist = tf.keras.datasets.fashion_mnist\n",
    "\n",
    "(train_images, train_labels), (test_images, test_labels) = fashion_mnist.load_data()"
   ]
  },
  {
   "cell_type": "markdown",
   "id": "830b5c66-bc65-4947-99cd-ef3af5f5bdb2",
   "metadata": {},
   "source": [
    "На уроке мы получали метрику accuracy на тестовом датасете в районе 0,87.  \n",
    "В данном практическом задании попробуем улучшить этот показатель."
   ]
  },
  {
   "cell_type": "code",
   "execution_count": 3,
   "id": "6182d93d-788d-40d5-a9e9-15d634c4cc78",
   "metadata": {},
   "outputs": [],
   "source": [
    "train_images = (train_images / 255.0) - 0.5\n",
    "\n",
    "test_images = (test_images / 255.0) - 0.5"
   ]
  },
  {
   "cell_type": "code",
   "execution_count": 4,
   "id": "d48622fc-b208-421b-aa88-1233bdb6492c",
   "metadata": {},
   "outputs": [],
   "source": [
    "tf.random.set_seed(29)"
   ]
  },
  {
   "cell_type": "code",
   "execution_count": 6,
   "id": "b63ce467-191a-4c66-982b-2fb83ff020cc",
   "metadata": {},
   "outputs": [],
   "source": [
    "model = tf.keras.Sequential([\n",
    "    tf.keras.layers.Flatten(input_shape=(28, 28)),\n",
    "    tf.keras.layers.BatchNormalization(momentum=0.995),\n",
    "    tf.keras.layers.Dense(128, activation='relu'),\n",
    "    tf.keras.layers.Dense(128, activation='relu'),\n",
    "    tf.keras.layers.Dense(10, activation='sigmoid')\n",
    "])"
   ]
  },
  {
   "cell_type": "code",
   "execution_count": 7,
   "id": "652bbbc1-9ec8-4ec1-8219-2d53bcb281a0",
   "metadata": {},
   "outputs": [],
   "source": [
    "model.compile(optimizer=tf.keras.optimizers.Nadam(beta_2=0.9999),\n",
    "              loss=tf.keras.losses.SparseCategoricalCrossentropy(),\n",
    "              metrics=['accuracy'])"
   ]
  },
  {
   "cell_type": "code",
   "execution_count": 8,
   "id": "b409a759-ed90-4bb2-a730-37f7e1e37f1a",
   "metadata": {},
   "outputs": [
    {
     "name": "stdout",
     "output_type": "stream",
     "text": [
      "Epoch 1/5\n",
      "1875/1875 [==============================] - 3s 1ms/step - loss: 0.4509 - accuracy: 0.8362\n",
      "Epoch 2/5\n",
      "1875/1875 [==============================] - 2s 1ms/step - loss: 0.3445 - accuracy: 0.8730\n",
      "Epoch 3/5\n",
      "1875/1875 [==============================] - 2s 1ms/step - loss: 0.3108 - accuracy: 0.8849\n",
      "Epoch 4/5\n",
      "1875/1875 [==============================] - 2s 1ms/step - loss: 0.2859 - accuracy: 0.8926\n",
      "Epoch 5/5\n",
      "1875/1875 [==============================] - 2s 1ms/step - loss: 0.2700 - accuracy: 0.8978\n"
     ]
    },
    {
     "data": {
      "text/plain": [
       "<keras.callbacks.History at 0x7fcae65870a0>"
      ]
     },
     "execution_count": 8,
     "metadata": {},
     "output_type": "execute_result"
    }
   ],
   "source": [
    "model.fit(train_images, train_labels, epochs=5)"
   ]
  },
  {
   "cell_type": "code",
   "execution_count": 9,
   "id": "5bb4e92a-2f0d-4292-9ee8-0c305065ac7c",
   "metadata": {},
   "outputs": [
    {
     "name": "stdout",
     "output_type": "stream",
     "text": [
      "313/313 [==============================] - 0s 723us/step - loss: 0.3374 - accuracy: 0.8821\n"
     ]
    },
    {
     "data": {
      "text/plain": [
       "[0.3373505473136902, 0.882099986076355]"
      ]
     },
     "execution_count": 9,
     "metadata": {},
     "output_type": "execute_result"
    }
   ],
   "source": [
    "model.evaluate(test_images, test_labels)"
   ]
  },
  {
   "cell_type": "markdown",
   "id": "aad3711e-fbe5-4b87-adc4-91c18e50d58f",
   "metadata": {},
   "source": [
    "<ins>Вывод:</ins>  \n",
    "Получили более 0,88. Улучшить метрику позволили следующие действия:  \n",
    "- Вычитаем 0,5 при первоначальной нормализации, как делали на  \n",
    "уроке №2. Это позволяет избежать зануления признаков, и они не  \n",
    "выпадают из обучения;  \n",
    "- Перенесли нормализацию внутри модели ближе к входному слою,  \n",
    "подобрали её параметры;  \n",
    "- Поменяли функцию активации выходного слоя с softmax на сигмоиду;  \n",
    "- Поменяли метод оптимизации с Adam на Nadam и подобрали его параметры;  \n",
    "- Сократили количество эпох с 6 до 5."
   ]
  },
  {
   "cell_type": "markdown",
   "id": "9ea36e4a-942a-41e5-8385-5be575b91497",
   "metadata": {},
   "source": [
    "Задание 2*."
   ]
  },
  {
   "cell_type": "markdown",
   "id": "cf04b41e-36a1-42e5-9ea6-e2a053259f90",
   "metadata": {},
   "source": [
    "*Попробуйте обучить нейронную сеть на TensorFlow 2 на датасете imdb_reviews.  \n",
    "Опишите, какого результата вы добились от нейросети? Что помогло вам улучшить ее точность?*"
   ]
  },
  {
   "cell_type": "markdown",
   "id": "0edfda0e-d14d-430b-bca8-20cdd4b9090b",
   "metadata": {},
   "source": [
    "Сделаем необходимые импорты. Ограничим количество уникальных  \n",
    "слов в обзорах до 20000 самых популярных:"
   ]
  },
  {
   "cell_type": "code",
   "execution_count": 10,
   "id": "7183fb0b-e664-4e39-9708-6ee3c74b6c78",
   "metadata": {},
   "outputs": [],
   "source": [
    "imdb_reviews = tf.keras.datasets.imdb"
   ]
  },
  {
   "cell_type": "code",
   "execution_count": 11,
   "id": "7550de21-2496-4050-b17f-4f486613b5b1",
   "metadata": {},
   "outputs": [],
   "source": [
    "(X_train, y_train), (X_test, y_test) = imdb_reviews.load_data(num_words=20000)"
   ]
  },
  {
   "cell_type": "code",
   "execution_count": 12,
   "id": "951ef6da-45ec-469b-b2a2-db06cea1a400",
   "metadata": {},
   "outputs": [
    {
     "data": {
      "text/plain": [
       "((25000,), (25000,))"
      ]
     },
     "execution_count": 12,
     "metadata": {},
     "output_type": "execute_result"
    }
   ],
   "source": [
    "X_train.shape, y_train.shape"
   ]
  },
  {
   "cell_type": "code",
   "execution_count": 13,
   "id": "939c3370-cacc-42bb-a752-37bb625f17ce",
   "metadata": {},
   "outputs": [
    {
     "data": {
      "text/plain": [
       "((25000,), (25000,))"
      ]
     },
     "execution_count": 13,
     "metadata": {},
     "output_type": "execute_result"
    }
   ],
   "source": [
    "X_test.shape, y_test.shape"
   ]
  },
  {
   "cell_type": "code",
   "execution_count": 14,
   "id": "59637cb6-b8e9-459a-a966-acff57169952",
   "metadata": {},
   "outputs": [],
   "source": [
    "from collections import Counter\n",
    "import numpy as np\n",
    "import pandas as pd"
   ]
  },
  {
   "cell_type": "markdown",
   "id": "bda03277-34a3-488e-9fca-b0c4a0c42ad5",
   "metadata": {},
   "source": [
    "Посмотрим, как выглядят данные:"
   ]
  },
  {
   "cell_type": "code",
   "execution_count": 15,
   "id": "3a39cc5a-d0ee-49ac-bd73-cd3419419dd1",
   "metadata": {},
   "outputs": [
    {
     "data": {
      "text/plain": [
       "[1, 14, 22, 16, 43, 530, 973, 1622, 1385, 65]"
      ]
     },
     "execution_count": 15,
     "metadata": {},
     "output_type": "execute_result"
    }
   ],
   "source": [
    "X_train[0][:10]"
   ]
  },
  {
   "cell_type": "code",
   "execution_count": 16,
   "id": "8146424c-d243-4019-a364-ecfe1f14d170",
   "metadata": {},
   "outputs": [
    {
     "data": {
      "text/plain": [
       "array([1, 0, 0, 1, 0])"
      ]
     },
     "execution_count": 16,
     "metadata": {},
     "output_type": "execute_result"
    }
   ],
   "source": [
    "y_train[:5]"
   ]
  },
  {
   "cell_type": "markdown",
   "id": "e8b46ced-e519-4f5a-8463-f21a61ad5503",
   "metadata": {},
   "source": [
    "Данные состоят из списков с индексами слов,  \n",
    "составляющих обзор на фильм. Целевой датасет  \n",
    "содержит информацию о том, хороший фильм или нет,  \n",
    "то есть имеем задачу бинарной классификации."
   ]
  },
  {
   "cell_type": "markdown",
   "id": "5a186811-5604-4aed-8add-6e7167d62187",
   "metadata": {},
   "source": [
    "Нужно подготовить данные для нейросети, для этого  \n",
    "представим данные в виде датафрейма, столбцами которого  \n",
    "будут индексы слов. Данными в ячейках будут числа, представляющие  \n",
    "количество слов определённого индекса в определённом обзоре."
   ]
  },
  {
   "cell_type": "markdown",
   "id": "c5c835bb-d89c-450c-ab2f-38638e54394f",
   "metadata": {},
   "source": [
    "Создадим множество всех индексов слов датасета:"
   ]
  },
  {
   "cell_type": "code",
   "execution_count": 17,
   "id": "350f3fd1-a761-463d-a0e5-547786528749",
   "metadata": {},
   "outputs": [],
   "source": [
    "words = set()\n",
    "for word_list in X_train:\n",
    "    words.update(word_list)"
   ]
  },
  {
   "cell_type": "markdown",
   "id": "4bd07738-3511-4f57-a95e-8043df259ca2",
   "metadata": {},
   "source": [
    "Создадим обучающий и тестовый датафреймы:"
   ]
  },
  {
   "cell_type": "code",
   "execution_count": 18,
   "id": "4df986f2-821a-4926-8907-5ae11a712112",
   "metadata": {},
   "outputs": [],
   "source": [
    "data = np.zeros((len(X_train), len(words)))\n",
    "train_df = pd.DataFrame(data=data, columns=list(words))\n",
    "test_df = train_df.copy()\n",
    "\n",
    "for i in range(X_train.shape[0]):\n",
    "    train_df.iloc[i].update(Counter(X_train[i]))\n",
    "    test_df.iloc[i].update(Counter(X_test[i]))"
   ]
  },
  {
   "cell_type": "markdown",
   "id": "0f3544c0-012b-4c97-8162-52a48017fb2e",
   "metadata": {},
   "source": [
    "Посмотрим на получившиеся датасеты:"
   ]
  },
  {
   "cell_type": "code",
   "execution_count": 19,
   "id": "1edcbe77-b6c5-4323-9d52-c3f7d2e807c1",
   "metadata": {},
   "outputs": [
    {
     "data": {
      "text/html": [
       "<div>\n",
       "<style scoped>\n",
       "    .dataframe tbody tr th:only-of-type {\n",
       "        vertical-align: middle;\n",
       "    }\n",
       "\n",
       "    .dataframe tbody tr th {\n",
       "        vertical-align: top;\n",
       "    }\n",
       "\n",
       "    .dataframe thead th {\n",
       "        text-align: right;\n",
       "    }\n",
       "</style>\n",
       "<table border=\"1\" class=\"dataframe\">\n",
       "  <thead>\n",
       "    <tr style=\"text-align: right;\">\n",
       "      <th></th>\n",
       "      <th>1</th>\n",
       "      <th>2</th>\n",
       "      <th>4</th>\n",
       "      <th>5</th>\n",
       "      <th>6</th>\n",
       "      <th>7</th>\n",
       "      <th>8</th>\n",
       "      <th>9</th>\n",
       "      <th>10</th>\n",
       "      <th>11</th>\n",
       "      <th>...</th>\n",
       "      <th>19990</th>\n",
       "      <th>19991</th>\n",
       "      <th>19992</th>\n",
       "      <th>19993</th>\n",
       "      <th>19994</th>\n",
       "      <th>19995</th>\n",
       "      <th>19996</th>\n",
       "      <th>19997</th>\n",
       "      <th>19998</th>\n",
       "      <th>19999</th>\n",
       "    </tr>\n",
       "  </thead>\n",
       "  <tbody>\n",
       "    <tr>\n",
       "      <th>0</th>\n",
       "      <td>1.0</td>\n",
       "      <td>3.0</td>\n",
       "      <td>15.0</td>\n",
       "      <td>9.0</td>\n",
       "      <td>3.0</td>\n",
       "      <td>2.0</td>\n",
       "      <td>3.0</td>\n",
       "      <td>1.0</td>\n",
       "      <td>0.0</td>\n",
       "      <td>0.0</td>\n",
       "      <td>...</td>\n",
       "      <td>0.0</td>\n",
       "      <td>0.0</td>\n",
       "      <td>0.0</td>\n",
       "      <td>0.0</td>\n",
       "      <td>0.0</td>\n",
       "      <td>0.0</td>\n",
       "      <td>0.0</td>\n",
       "      <td>0.0</td>\n",
       "      <td>0.0</td>\n",
       "      <td>0.0</td>\n",
       "    </tr>\n",
       "    <tr>\n",
       "      <th>1</th>\n",
       "      <td>1.0</td>\n",
       "      <td>4.0</td>\n",
       "      <td>15.0</td>\n",
       "      <td>10.0</td>\n",
       "      <td>3.0</td>\n",
       "      <td>2.0</td>\n",
       "      <td>3.0</td>\n",
       "      <td>10.0</td>\n",
       "      <td>0.0</td>\n",
       "      <td>2.0</td>\n",
       "      <td>...</td>\n",
       "      <td>0.0</td>\n",
       "      <td>0.0</td>\n",
       "      <td>0.0</td>\n",
       "      <td>0.0</td>\n",
       "      <td>0.0</td>\n",
       "      <td>0.0</td>\n",
       "      <td>0.0</td>\n",
       "      <td>0.0</td>\n",
       "      <td>0.0</td>\n",
       "      <td>0.0</td>\n",
       "    </tr>\n",
       "    <tr>\n",
       "      <th>2</th>\n",
       "      <td>1.0</td>\n",
       "      <td>2.0</td>\n",
       "      <td>9.0</td>\n",
       "      <td>0.0</td>\n",
       "      <td>4.0</td>\n",
       "      <td>4.0</td>\n",
       "      <td>4.0</td>\n",
       "      <td>2.0</td>\n",
       "      <td>0.0</td>\n",
       "      <td>2.0</td>\n",
       "      <td>...</td>\n",
       "      <td>0.0</td>\n",
       "      <td>0.0</td>\n",
       "      <td>0.0</td>\n",
       "      <td>0.0</td>\n",
       "      <td>0.0</td>\n",
       "      <td>0.0</td>\n",
       "      <td>0.0</td>\n",
       "      <td>0.0</td>\n",
       "      <td>0.0</td>\n",
       "      <td>0.0</td>\n",
       "    </tr>\n",
       "    <tr>\n",
       "      <th>3</th>\n",
       "      <td>1.0</td>\n",
       "      <td>23.0</td>\n",
       "      <td>36.0</td>\n",
       "      <td>12.0</td>\n",
       "      <td>8.0</td>\n",
       "      <td>21.0</td>\n",
       "      <td>12.0</td>\n",
       "      <td>12.0</td>\n",
       "      <td>16.0</td>\n",
       "      <td>12.0</td>\n",
       "      <td>...</td>\n",
       "      <td>0.0</td>\n",
       "      <td>0.0</td>\n",
       "      <td>0.0</td>\n",
       "      <td>0.0</td>\n",
       "      <td>0.0</td>\n",
       "      <td>0.0</td>\n",
       "      <td>0.0</td>\n",
       "      <td>0.0</td>\n",
       "      <td>0.0</td>\n",
       "      <td>0.0</td>\n",
       "    </tr>\n",
       "    <tr>\n",
       "      <th>4</th>\n",
       "      <td>1.0</td>\n",
       "      <td>1.0</td>\n",
       "      <td>2.0</td>\n",
       "      <td>6.0</td>\n",
       "      <td>2.0</td>\n",
       "      <td>4.0</td>\n",
       "      <td>2.0</td>\n",
       "      <td>0.0</td>\n",
       "      <td>2.0</td>\n",
       "      <td>2.0</td>\n",
       "      <td>...</td>\n",
       "      <td>0.0</td>\n",
       "      <td>0.0</td>\n",
       "      <td>0.0</td>\n",
       "      <td>0.0</td>\n",
       "      <td>0.0</td>\n",
       "      <td>0.0</td>\n",
       "      <td>0.0</td>\n",
       "      <td>0.0</td>\n",
       "      <td>0.0</td>\n",
       "      <td>0.0</td>\n",
       "    </tr>\n",
       "  </tbody>\n",
       "</table>\n",
       "<p>5 rows × 19998 columns</p>\n",
       "</div>"
      ],
      "text/plain": [
       "   1      2      4      5      6      7      8      9      10     11     ...  \\\n",
       "0    1.0    3.0   15.0    9.0    3.0    2.0    3.0    1.0    0.0    0.0  ...   \n",
       "1    1.0    4.0   15.0   10.0    3.0    2.0    3.0   10.0    0.0    2.0  ...   \n",
       "2    1.0    2.0    9.0    0.0    4.0    4.0    4.0    2.0    0.0    2.0  ...   \n",
       "3    1.0   23.0   36.0   12.0    8.0   21.0   12.0   12.0   16.0   12.0  ...   \n",
       "4    1.0    1.0    2.0    6.0    2.0    4.0    2.0    0.0    2.0    2.0  ...   \n",
       "\n",
       "   19990  19991  19992  19993  19994  19995  19996  19997  19998  19999  \n",
       "0    0.0    0.0    0.0    0.0    0.0    0.0    0.0    0.0    0.0    0.0  \n",
       "1    0.0    0.0    0.0    0.0    0.0    0.0    0.0    0.0    0.0    0.0  \n",
       "2    0.0    0.0    0.0    0.0    0.0    0.0    0.0    0.0    0.0    0.0  \n",
       "3    0.0    0.0    0.0    0.0    0.0    0.0    0.0    0.0    0.0    0.0  \n",
       "4    0.0    0.0    0.0    0.0    0.0    0.0    0.0    0.0    0.0    0.0  \n",
       "\n",
       "[5 rows x 19998 columns]"
      ]
     },
     "execution_count": 19,
     "metadata": {},
     "output_type": "execute_result"
    }
   ],
   "source": [
    "train_df.head()"
   ]
  },
  {
   "cell_type": "code",
   "execution_count": 20,
   "id": "3d11df7b-35ee-4ad9-b979-1805f221948b",
   "metadata": {},
   "outputs": [
    {
     "data": {
      "text/html": [
       "<div>\n",
       "<style scoped>\n",
       "    .dataframe tbody tr th:only-of-type {\n",
       "        vertical-align: middle;\n",
       "    }\n",
       "\n",
       "    .dataframe tbody tr th {\n",
       "        vertical-align: top;\n",
       "    }\n",
       "\n",
       "    .dataframe thead th {\n",
       "        text-align: right;\n",
       "    }\n",
       "</style>\n",
       "<table border=\"1\" class=\"dataframe\">\n",
       "  <thead>\n",
       "    <tr style=\"text-align: right;\">\n",
       "      <th></th>\n",
       "      <th>1</th>\n",
       "      <th>2</th>\n",
       "      <th>4</th>\n",
       "      <th>5</th>\n",
       "      <th>6</th>\n",
       "      <th>7</th>\n",
       "      <th>8</th>\n",
       "      <th>9</th>\n",
       "      <th>10</th>\n",
       "      <th>11</th>\n",
       "      <th>...</th>\n",
       "      <th>19990</th>\n",
       "      <th>19991</th>\n",
       "      <th>19992</th>\n",
       "      <th>19993</th>\n",
       "      <th>19994</th>\n",
       "      <th>19995</th>\n",
       "      <th>19996</th>\n",
       "      <th>19997</th>\n",
       "      <th>19998</th>\n",
       "      <th>19999</th>\n",
       "    </tr>\n",
       "  </thead>\n",
       "  <tbody>\n",
       "    <tr>\n",
       "      <th>0</th>\n",
       "      <td>1.0</td>\n",
       "      <td>0.0</td>\n",
       "      <td>3.0</td>\n",
       "      <td>2.0</td>\n",
       "      <td>2.0</td>\n",
       "      <td>1.0</td>\n",
       "      <td>2.0</td>\n",
       "      <td>1.0</td>\n",
       "      <td>4.0</td>\n",
       "      <td>0.0</td>\n",
       "      <td>...</td>\n",
       "      <td>0.0</td>\n",
       "      <td>0.0</td>\n",
       "      <td>0.0</td>\n",
       "      <td>0.0</td>\n",
       "      <td>0.0</td>\n",
       "      <td>0.0</td>\n",
       "      <td>0.0</td>\n",
       "      <td>0.0</td>\n",
       "      <td>0.0</td>\n",
       "      <td>0.0</td>\n",
       "    </tr>\n",
       "    <tr>\n",
       "      <th>1</th>\n",
       "      <td>1.0</td>\n",
       "      <td>2.0</td>\n",
       "      <td>18.0</td>\n",
       "      <td>9.0</td>\n",
       "      <td>6.0</td>\n",
       "      <td>7.0</td>\n",
       "      <td>6.0</td>\n",
       "      <td>7.0</td>\n",
       "      <td>6.0</td>\n",
       "      <td>3.0</td>\n",
       "      <td>...</td>\n",
       "      <td>0.0</td>\n",
       "      <td>0.0</td>\n",
       "      <td>0.0</td>\n",
       "      <td>0.0</td>\n",
       "      <td>0.0</td>\n",
       "      <td>0.0</td>\n",
       "      <td>0.0</td>\n",
       "      <td>0.0</td>\n",
       "      <td>0.0</td>\n",
       "      <td>0.0</td>\n",
       "    </tr>\n",
       "    <tr>\n",
       "      <th>2</th>\n",
       "      <td>1.0</td>\n",
       "      <td>33.0</td>\n",
       "      <td>36.0</td>\n",
       "      <td>11.0</td>\n",
       "      <td>23.0</td>\n",
       "      <td>18.0</td>\n",
       "      <td>14.0</td>\n",
       "      <td>8.0</td>\n",
       "      <td>8.0</td>\n",
       "      <td>13.0</td>\n",
       "      <td>...</td>\n",
       "      <td>0.0</td>\n",
       "      <td>0.0</td>\n",
       "      <td>0.0</td>\n",
       "      <td>0.0</td>\n",
       "      <td>0.0</td>\n",
       "      <td>0.0</td>\n",
       "      <td>0.0</td>\n",
       "      <td>0.0</td>\n",
       "      <td>0.0</td>\n",
       "      <td>0.0</td>\n",
       "    </tr>\n",
       "    <tr>\n",
       "      <th>3</th>\n",
       "      <td>1.0</td>\n",
       "      <td>0.0</td>\n",
       "      <td>13.0</td>\n",
       "      <td>3.0</td>\n",
       "      <td>2.0</td>\n",
       "      <td>3.0</td>\n",
       "      <td>2.0</td>\n",
       "      <td>3.0</td>\n",
       "      <td>0.0</td>\n",
       "      <td>2.0</td>\n",
       "      <td>...</td>\n",
       "      <td>0.0</td>\n",
       "      <td>0.0</td>\n",
       "      <td>0.0</td>\n",
       "      <td>0.0</td>\n",
       "      <td>0.0</td>\n",
       "      <td>0.0</td>\n",
       "      <td>0.0</td>\n",
       "      <td>0.0</td>\n",
       "      <td>0.0</td>\n",
       "      <td>0.0</td>\n",
       "    </tr>\n",
       "    <tr>\n",
       "      <th>4</th>\n",
       "      <td>1.0</td>\n",
       "      <td>3.0</td>\n",
       "      <td>1.0</td>\n",
       "      <td>3.0</td>\n",
       "      <td>1.0</td>\n",
       "      <td>0.0</td>\n",
       "      <td>3.0</td>\n",
       "      <td>2.0</td>\n",
       "      <td>6.0</td>\n",
       "      <td>0.0</td>\n",
       "      <td>...</td>\n",
       "      <td>0.0</td>\n",
       "      <td>0.0</td>\n",
       "      <td>0.0</td>\n",
       "      <td>0.0</td>\n",
       "      <td>0.0</td>\n",
       "      <td>0.0</td>\n",
       "      <td>0.0</td>\n",
       "      <td>0.0</td>\n",
       "      <td>0.0</td>\n",
       "      <td>0.0</td>\n",
       "    </tr>\n",
       "  </tbody>\n",
       "</table>\n",
       "<p>5 rows × 19998 columns</p>\n",
       "</div>"
      ],
      "text/plain": [
       "   1      2      4      5      6      7      8      9      10     11     ...  \\\n",
       "0    1.0    0.0    3.0    2.0    2.0    1.0    2.0    1.0    4.0    0.0  ...   \n",
       "1    1.0    2.0   18.0    9.0    6.0    7.0    6.0    7.0    6.0    3.0  ...   \n",
       "2    1.0   33.0   36.0   11.0   23.0   18.0   14.0    8.0    8.0   13.0  ...   \n",
       "3    1.0    0.0   13.0    3.0    2.0    3.0    2.0    3.0    0.0    2.0  ...   \n",
       "4    1.0    3.0    1.0    3.0    1.0    0.0    3.0    2.0    6.0    0.0  ...   \n",
       "\n",
       "   19990  19991  19992  19993  19994  19995  19996  19997  19998  19999  \n",
       "0    0.0    0.0    0.0    0.0    0.0    0.0    0.0    0.0    0.0    0.0  \n",
       "1    0.0    0.0    0.0    0.0    0.0    0.0    0.0    0.0    0.0    0.0  \n",
       "2    0.0    0.0    0.0    0.0    0.0    0.0    0.0    0.0    0.0    0.0  \n",
       "3    0.0    0.0    0.0    0.0    0.0    0.0    0.0    0.0    0.0    0.0  \n",
       "4    0.0    0.0    0.0    0.0    0.0    0.0    0.0    0.0    0.0    0.0  \n",
       "\n",
       "[5 rows x 19998 columns]"
      ]
     },
     "execution_count": 20,
     "metadata": {},
     "output_type": "execute_result"
    }
   ],
   "source": [
    "test_df.head()"
   ]
  },
  {
   "cell_type": "markdown",
   "id": "fc8c6261-c58a-477e-b7f2-6220733fbbbe",
   "metadata": {},
   "source": [
    "Так как эти датасеты содержат большое количество нулей, то  \n",
    "конвертируем их в разреженные матрицы для экономии памяти:  "
   ]
  },
  {
   "cell_type": "code",
   "execution_count": 21,
   "id": "9ab62d76-d2f8-4839-88cd-4c74b99a7014",
   "metadata": {},
   "outputs": [
    {
     "name": "stderr",
     "output_type": "stream",
     "text": [
      "2022-07-08 17:38:09.348083: W tensorflow/core/framework/cpu_allocator_impl.cc:82] Allocation of 3999600000 exceeds 10% of free system memory.\n",
      "2022-07-08 17:38:10.579132: W tensorflow/core/framework/cpu_allocator_impl.cc:82] Allocation of 3999600000 exceeds 10% of free system memory.\n",
      "2022-07-08 17:38:13.255794: W tensorflow/core/framework/cpu_allocator_impl.cc:82] Allocation of 3999600000 exceeds 10% of free system memory.\n",
      "2022-07-08 17:38:14.508940: W tensorflow/core/framework/cpu_allocator_impl.cc:82] Allocation of 3999600000 exceeds 10% of free system memory.\n"
     ]
    }
   ],
   "source": [
    "train_df = tf.sparse.from_dense(train_df)\n",
    "test_df = tf.sparse.from_dense(test_df)"
   ]
  },
  {
   "cell_type": "markdown",
   "id": "3dc43c73-1683-45d7-83ed-9f594db49d10",
   "metadata": {},
   "source": [
    "Инициализируем и обучим нейронную сеть:"
   ]
  },
  {
   "cell_type": "code",
   "execution_count": 22,
   "id": "08c43a4a-3688-4fc6-b2a8-04ff6f03c1d6",
   "metadata": {},
   "outputs": [],
   "source": [
    "tf.random.set_seed(29)\n",
    "\n",
    "imdb_model = tf.keras.Sequential([\n",
    "    tf.keras.layers.InputLayer(input_shape=(train_df.shape[1]), sparse=True),\n",
    "    tf.keras.layers.Dense(16, activation='relu'),\n",
    "    tf.keras.layers.Dropout(0.25),\n",
    "    tf.keras.layers.LayerNormalization(),\n",
    "    tf.keras.layers.Dense(16, activation='relu'),\n",
    "    tf.keras.layers.Dense(2, activation='softmax')\n",
    "])  "
   ]
  },
  {
   "cell_type": "code",
   "execution_count": 23,
   "id": "070bbc42-23c2-4644-8f69-6230b5b1c1ad",
   "metadata": {},
   "outputs": [],
   "source": [
    "imdb_model.compile(optimizer='adam',\n",
    "                   loss='sparse_categorical_crossentropy',\n",
    "                   metrics=['accuracy'])"
   ]
  },
  {
   "cell_type": "code",
   "execution_count": 24,
   "id": "02ddf0cd-2f84-4595-969d-b47943f8e179",
   "metadata": {},
   "outputs": [
    {
     "name": "stdout",
     "output_type": "stream",
     "text": [
      "Epoch 1/2\n"
     ]
    },
    {
     "name": "stderr",
     "output_type": "stream",
     "text": [
      "/home/shkin/.local/lib/python3.10/site-packages/tensorflow/python/framework/indexed_slices.py:444: UserWarning: Converting sparse IndexedSlices(IndexedSlices(indices=Tensor(\"gradient_tape/sequential_2/dense_6/embedding_lookup_sparse/Reshape_1:0\", shape=(None,), dtype=int32), values=Tensor(\"gradient_tape/sequential_2/dense_6/embedding_lookup_sparse/Reshape:0\", shape=(None, 16), dtype=float32), dense_shape=Tensor(\"gradient_tape/sequential_2/dense_6/embedding_lookup_sparse/Cast:0\", shape=(2,), dtype=int32))) to a dense Tensor of unknown shape. This may consume a large amount of memory.\n",
      "  warnings.warn(\n"
     ]
    },
    {
     "name": "stdout",
     "output_type": "stream",
     "text": [
      "782/782 [==============================] - 2s 2ms/step - loss: 0.3744 - accuracy: 0.8370\n",
      "Epoch 2/2\n",
      "782/782 [==============================] - 2s 2ms/step - loss: 0.2156 - accuracy: 0.9168\n"
     ]
    },
    {
     "data": {
      "text/plain": [
       "<keras.callbacks.History at 0x7fcae61b63b0>"
      ]
     },
     "execution_count": 24,
     "metadata": {},
     "output_type": "execute_result"
    }
   ],
   "source": [
    "imdb_model.fit(train_df, y_train, epochs=2)"
   ]
  },
  {
   "cell_type": "code",
   "execution_count": 25,
   "id": "98ab3e7d-7382-487d-8647-e72025760704",
   "metadata": {},
   "outputs": [
    {
     "name": "stdout",
     "output_type": "stream",
     "text": [
      "782/782 [==============================] - 1s 951us/step - loss: 0.3260 - accuracy: 0.8809\n"
     ]
    },
    {
     "data": {
      "text/plain": [
       "[0.32597240805625916, 0.8808799982070923]"
      ]
     },
     "execution_count": 25,
     "metadata": {},
     "output_type": "execute_result"
    }
   ],
   "source": [
    "imdb_model.evaluate(test_df, y_test)"
   ]
  },
  {
   "cell_type": "markdown",
   "id": "31e0aa2c-acdb-4856-be8a-8b0a146086e0",
   "metadata": {},
   "source": [
    "<ins>Вывод:</ins>  \n",
    "Подготовили данные и обучили нейронную сеть на задаче  \n",
    "бинарной классификации. Получили приемлемую точность 88%.  "
   ]
  }
 ],
 "metadata": {
  "kernelspec": {
   "display_name": "Python 3 (ipykernel)",
   "language": "python",
   "name": "python3"
  },
  "language_info": {
   "codemirror_mode": {
    "name": "ipython",
    "version": 3
   },
   "file_extension": ".py",
   "mimetype": "text/x-python",
   "name": "python",
   "nbconvert_exporter": "python",
   "pygments_lexer": "ipython3",
   "version": "3.10.4"
  }
 },
 "nbformat": 4,
 "nbformat_minor": 5
}
